{
 "cells": [
  {
   "cell_type": "markdown",
   "metadata": {},
   "source": [
    "I read the necessary information on this page\n",
    "\n",
    "https://en.wikipedia.org/wiki/Vehicle_registration_plates_of_Kenya\n",
    "\n",
    "But I will make life easy for everyone by including all the possibilities."
   ]
  },
  {
   "cell_type": "code",
   "execution_count": 6,
   "metadata": {
    "collapsed": false
   },
   "outputs": [
    {
     "name": "stdout",
     "output_type": "stream",
     "text": [
      "['A', 'B', 'C', 'D', 'E', 'F', 'G', 'H', 'I', 'J', 'K', 'L', 'M', 'N', 'O', 'P', 'Q', 'R', 'S', 'T', 'U', 'V', 'W', 'X', 'Y', 'Z']\n"
     ]
    },
    {
     "data": {
      "text/plain": [
       "{'A': 1,\n",
       " 'B': 2,\n",
       " 'C': 3,\n",
       " 'D': 4,\n",
       " 'E': 5,\n",
       " 'F': 6,\n",
       " 'G': 7,\n",
       " 'H': 8,\n",
       " 'I': 9,\n",
       " 'J': 10,\n",
       " 'K': 11,\n",
       " 'L': 12,\n",
       " 'M': 13,\n",
       " 'N': 14,\n",
       " 'O': 15,\n",
       " 'P': 16,\n",
       " 'Q': 17,\n",
       " 'R': 18,\n",
       " 'S': 19,\n",
       " 'T': 20,\n",
       " 'U': 21,\n",
       " 'V': 22,\n",
       " 'W': 23,\n",
       " 'X': 24,\n",
       " 'Y': 25,\n",
       " 'Z': 26}"
      ]
     },
     "execution_count": 6,
     "metadata": {},
     "output_type": "execute_result"
    }
   ],
   "source": [
    "import string\n",
    "alphabet = [str(i) for i in string.uppercase]\n",
    "print(alphabet)\n",
    "Alphabet={}\n",
    "for i in range(26):\n",
    "    Alphabet[alphabet[i]]=i+1\n",
    "Alphabet    "
   ]
  },
  {
   "cell_type": "code",
   "execution_count": 7,
   "metadata": {
    "collapsed": false
   },
   "outputs": [
    {
     "data": {
      "text/plain": [
       "26"
      ]
     },
     "execution_count": 7,
     "metadata": {},
     "output_type": "execute_result"
    }
   ],
   "source": [
    "Alphabet['Z']"
   ]
  },
  {
   "cell_type": "code",
   "execution_count": 13,
   "metadata": {
    "collapsed": false
   },
   "outputs": [
    {
     "data": {
      "text/plain": [
       "'BQ'"
      ]
     },
     "execution_count": 13,
     "metadata": {},
     "output_type": "execute_result"
    }
   ],
   "source": [
    "g = \"KBQ 011\"\n",
    "m = \"KFJ 745\"\n",
    "g[1:3]"
   ]
  },
  {
   "cell_type": "code",
   "execution_count": null,
   "metadata": {
    "collapsed": true
   },
   "outputs": [],
   "source": []
  },
  {
   "cell_type": "code",
   "execution_count": 19,
   "metadata": {
    "collapsed": false
   },
   "outputs": [],
   "source": [
    "plate_letters = [ str(\"K\")+str(i)+str(j) for i in alphabet for j in alphabet]\n",
    "#print(K)"
   ]
  },
  {
   "cell_type": "code",
   "execution_count": 29,
   "metadata": {
    "collapsed": false
   },
   "outputs": [],
   "source": [
    "first_generation_number = []\n",
    "for i in range(10):\n",
    "            for j in range(10):\n",
    "                for k in range(10):\n",
    "                    first_generation_number.append(str(i)+str(j)+str(k))\n",
    "#print(first_generation_number)                    "
   ]
  },
  {
   "cell_type": "code",
   "execution_count": 21,
   "metadata": {
    "collapsed": false
   },
   "outputs": [],
   "source": [
    "second_generation_number = []\n",
    "for i in first_generation_number:\n",
    "    for j in alphabet:\n",
    "                    second_generation_number.append(str(i)+str(j))\n",
    "#print(second_generation_number) "
   ]
  },
  {
   "cell_type": "code",
   "execution_count": 26,
   "metadata": {
    "collapsed": true
   },
   "outputs": [],
   "source": [
    "first_generation=[]\n",
    "second_generation=[]\n",
    "for pl in plate_letters:\n",
    "    for i in first_generation_number:\n",
    "        first_generation.append(pl+\" \"+i )\n",
    "    for j in second_generation_number:\n",
    "        second_generation.append(pl+\" \"+j )   "
   ]
  },
  {
   "cell_type": "code",
   "execution_count": 31,
   "metadata": {
    "collapsed": false
   },
   "outputs": [],
   "source": [
    "#first_generation\n",
    "#second_generation\n",
    "#total_plate= first_generation + second_generation"
   ]
  },
  {
   "cell_type": "code",
   "execution_count": 33,
   "metadata": {
    "collapsed": false
   },
   "outputs": [
    {
     "name": "stdout",
     "output_type": "stream",
     "text": [
      "KBP 210\n"
     ]
    }
   ],
   "source": [
    "import random\n",
    "print(random.choice(first_generation))"
   ]
  },
  {
   "cell_type": "code",
   "execution_count": 53,
   "metadata": {
    "collapsed": false
   },
   "outputs": [
    {
     "name": "stdout",
     "output_type": "stream",
     "text": [
      "KLP 553\n"
     ]
    },
    {
     "data": {
      "text/plain": [
       "-1"
      ]
     },
     "execution_count": 53,
     "metadata": {},
     "output_type": "execute_result"
    }
   ],
   "source": [
    "h = 'kjadbj cbad KRT 220 kgae cgbl vi gcalcg'\n",
    "o = random.choice(first_generation)\n",
    "print(o)\n",
    "h.find(\"o\")"
   ]
  },
  {
   "cell_type": "code",
   "execution_count": null,
   "metadata": {
    "collapsed": true
   },
   "outputs": [],
   "source": []
  }
 ],
 "metadata": {
  "kernelspec": {
   "display_name": "Python 2",
   "language": "python",
   "name": "python2"
  },
  "language_info": {
   "codemirror_mode": {
    "name": "ipython",
    "version": 2
   },
   "file_extension": ".py",
   "mimetype": "text/x-python",
   "name": "python",
   "nbconvert_exporter": "python",
   "pygments_lexer": "ipython2",
   "version": "2.7.13"
  }
 },
 "nbformat": 4,
 "nbformat_minor": 2
}
